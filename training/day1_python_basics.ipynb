{
 "cells": [
  {
   "cell_type": "markdown",
   "id": "10cce2c7-9cf8-416c-958c-614bdacbb97b",
   "metadata": {},
   "source": [
    "## Quantlake Day 1 Task"
   ]
  },
  {
   "cell_type": "code",
   "execution_count": 42,
   "id": "dc104b44-e40f-41e1-baf7-730d77a45815",
   "metadata": {},
   "outputs": [
    {
     "name": "stdout",
     "output_type": "stream",
     "text": [
      "C:\\Users\\vinot\n"
     ]
    }
   ],
   "source": [
    "!cd"
   ]
  },
  {
   "cell_type": "markdown",
   "id": "9251233a-1aaa-4f7d-8769-d5dc763164db",
   "metadata": {},
   "source": [
    "#### Variables and data types\n",
    " - In Python Variables are like stored containers that stroe data values to specific letters or words.\n",
    "    - Example: X = 5, y = 9, data_types = 'integer', 'Float', 'object'"
   ]
  },
  {
   "cell_type": "code",
   "execution_count": 1,
   "id": "c854a3b0-2c85-43a5-9d07-45bb0bd64f24",
   "metadata": {},
   "outputs": [],
   "source": [
    "x =5\n",
    "y = 9"
   ]
  },
  {
   "cell_type": "markdown",
   "id": "5f485d2d-63e0-4060-b6be-617e63e0557e",
   "metadata": {},
   "source": [
    "### Data Type\n",
    " - Data types reprasent a dypes of specific data that a variables or values contains"
   ]
  },
  {
   "cell_type": "code",
   "execution_count": 3,
   "id": "214daf1d-8bde-4511-a16a-4efe97774d47",
   "metadata": {},
   "outputs": [
    {
     "name": "stdout",
     "output_type": "stream",
     "text": [
      "15\n",
      "<class 'int'>\n"
     ]
    }
   ],
   "source": [
    "## Integer Datatype\n",
    "ints = 15\n",
    "print(ints)\n",
    "print(type(ints))"
   ]
  },
  {
   "cell_type": "code",
   "execution_count": 4,
   "id": "bf2bcb9e-d113-4fb6-ae1d-baeb4a4de39f",
   "metadata": {},
   "outputs": [
    {
     "name": "stdout",
     "output_type": "stream",
     "text": [
      "15.5\n",
      "<class 'float'>\n"
     ]
    }
   ],
   "source": [
    "## FLoat Datatype\n",
    "floats = 15.5\n",
    "print(floats)\n",
    "print(type(floats))"
   ]
  },
  {
   "cell_type": "markdown",
   "id": "07309a15-e584-4f7d-a04e-9e4db5d14633",
   "metadata": {},
   "source": [
    "Float store decimal values like 198.6, 1082.35"
   ]
  },
  {
   "cell_type": "code",
   "execution_count": 5,
   "id": "d5ffd32f-abca-4510-93eb-b0a6d1c242a2",
   "metadata": {},
   "outputs": [
    {
     "name": "stdout",
     "output_type": "stream",
     "text": [
      "QuantLake\n",
      "<class 'str'>\n"
     ]
    }
   ],
   "source": [
    "## string\n",
    "objects = 'QuantLake'\n",
    "print(objects)\n",
    "print(type(objects))"
   ]
  },
  {
   "cell_type": "markdown",
   "id": "bd98ef89-1050-49c0-8f85-4492d6131492",
   "metadata": {},
   "source": [
    "'str' refers string datatype that store values in words. Ex: 'QuantLake', 'VK05QL'"
   ]
  },
  {
   "cell_type": "code",
   "execution_count": 6,
   "id": "6cbd5279-8906-40d5-9b11-6fee204abdae",
   "metadata": {},
   "outputs": [
    {
     "name": "stdout",
     "output_type": "stream",
     "text": [
      "True\n",
      "<class 'bool'>\n"
     ]
    }
   ],
   "source": [
    "## boolien\n",
    "is_it = True\n",
    "print(is_it)\n",
    "print(type(is_it))"
   ]
  },
  {
   "cell_type": "markdown",
   "id": "cb847a6c-ac1a-41c6-a05d-9ae1e8c69b44",
   "metadata": {},
   "source": [
    "Represents truth values, either True or False"
   ]
  },
  {
   "cell_type": "code",
   "execution_count": 7,
   "id": "12159540-ac14-4c55-b7d4-5a93ebfc524f",
   "metadata": {},
   "outputs": [
    {
     "name": "stdout",
     "output_type": "stream",
     "text": [
      "['Quantlake', 'numbers', 'strings', 160]\n",
      "<class 'list'>\n"
     ]
    }
   ],
   "source": [
    "## list\n",
    "listing = ['Quantlake', 'numbers', 'strings', 160]\n",
    "print(listing)\n",
    "print(type(listing))"
   ]
  },
  {
   "cell_type": "markdown",
   "id": "4804a024-c306-4a98-9f53-5e6476ef91f8",
   "metadata": {},
   "source": [
    "list is an order, mutable collection of items. items can be of any type"
   ]
  },
  {
   "cell_type": "code",
   "execution_count": 10,
   "id": "3d0228de-b591-4580-b9d0-e9f6a31093e7",
   "metadata": {},
   "outputs": [
    {
     "name": "stdout",
     "output_type": "stream",
     "text": [
      "('yes', 'perfect', 'yes', 'store', 'store', 'perfect')\n",
      "<class 'tuple'>\n"
     ]
    }
   ],
   "source": [
    "## tuples\n",
    "tuples = ('yes', 'perfect', 'yes', 'store', 'store', 'perfect')\n",
    "print(sets)\n",
    "print(type(tuples))"
   ]
  },
  {
   "cell_type": "markdown",
   "id": "3b142a04-e382-40b7-99c5-fdb0266e80b3",
   "metadata": {},
   "source": [
    "An ordered, immutable collection of items. Items can be of different data types."
   ]
  },
  {
   "cell_type": "code",
   "execution_count": 12,
   "id": "e6584578-7b0c-4043-942a-522176737327",
   "metadata": {},
   "outputs": [
    {
     "name": "stdout",
     "output_type": "stream",
     "text": [
      "{'Company': 'QuantLake', 'designation': 'Inter', 'role': 'Data Analys'}\n",
      "<class 'dict'>\n"
     ]
    }
   ],
   "source": [
    "## dictionaries\n",
    "dicts = {'Company':'QuantLake', 'designation':'Inter', 'role':'Data Analys'}\n",
    "print(dicts)\n",
    "print(type(dicts))"
   ]
  },
  {
   "cell_type": "markdown",
   "id": "16afeb75-30f9-47dc-9b1c-1367b1365aa5",
   "metadata": {},
   "source": [
    "An unorder, mutable collection od keys and values. keys should be unique and immutable"
   ]
  },
  {
   "cell_type": "markdown",
   "id": "549faf6d-2472-43c5-8c07-48f746ef85bd",
   "metadata": {},
   "source": [
    "### Arithmetic comparition operation"
   ]
  },
  {
   "cell_type": "code",
   "execution_count": 13,
   "id": "acdfe8d0-bed4-4c98-81b8-dd0c120098b6",
   "metadata": {},
   "outputs": [],
   "source": [
    "## Assigninig variables\n",
    "x= 5\n",
    "y= 10"
   ]
  },
  {
   "cell_type": "code",
   "execution_count": 26,
   "id": "84c63707-81ae-4a3a-906a-8726d08ff3a7",
   "metadata": {},
   "outputs": [
    {
     "name": "stdout",
     "output_type": "stream",
     "text": [
      "Addition of x and y:  15\n"
     ]
    }
   ],
   "source": [
    "## Addition opetator\n",
    "print('Addition of x and y: ',x+y)"
   ]
  },
  {
   "cell_type": "code",
   "execution_count": 21,
   "id": "2056e9b7-cbe8-4197-8a75-eb693b26852b",
   "metadata": {},
   "outputs": [
    {
     "name": "stdout",
     "output_type": "stream",
     "text": [
      "subraction:  5\n"
     ]
    }
   ],
   "source": [
    "## Subtraction Operator\n",
    "print('subraction of x and y: ',y-x)"
   ]
  },
  {
   "cell_type": "code",
   "execution_count": 23,
   "id": "e06af3f4-ee93-4502-8c39-fb7e26e5cef4",
   "metadata": {},
   "outputs": [
    {
     "name": "stdout",
     "output_type": "stream",
     "text": [
      "Multiplication 50\n"
     ]
    }
   ],
   "source": [
    "## Multiplication operator\n",
    "print('Multiplication of x and y:',x*y)"
   ]
  },
  {
   "cell_type": "code",
   "execution_count": 24,
   "id": "9906e051-b26f-44d5-b496-96969b0609af",
   "metadata": {},
   "outputs": [
    {
     "name": "stdout",
     "output_type": "stream",
     "text": [
      "Divide: 2.0\n"
     ]
    }
   ],
   "source": [
    "## Divide operator\n",
    "print('Divide of x and y:', y/x)"
   ]
  },
  {
   "cell_type": "code",
   "execution_count": 27,
   "id": "1ec56eba-1389-4785-a7d0-b8d4f0a8ef5f",
   "metadata": {},
   "outputs": [
    {
     "name": "stdout",
     "output_type": "stream",
     "text": [
      "Is x is equal to y:  False\n",
      "Is y is equal to z:  True\n"
     ]
    }
   ],
   "source": [
    "## Comparition operator\n",
    "z=10\n",
    "print('Is x is equal to y: ',x==y)\n",
    "print('Is y is equal to z: ',y==z)"
   ]
  },
  {
   "cell_type": "markdown",
   "id": "6b6199c1-2361-4002-b456-2aea4e9ae8b2",
   "metadata": {},
   "source": [
    "### Control Flow Primer"
   ]
  },
  {
   "cell_type": "code",
   "execution_count": 31,
   "id": "c7771cdf-202f-4023-bba9-0d923c70afe3",
   "metadata": {},
   "outputs": [
    {
     "name": "stdout",
     "output_type": "stream",
     "text": [
      "x is not equal to x, and y.\n"
     ]
    }
   ],
   "source": [
    "## If, elif, else condtions\n",
    "if x == y:\n",
    "    print('x is equal to y')\n",
    "elif x == z:\n",
    "    print('x is equal to z')\n",
    "else:\n",
    "    print('x is not equal to x, and y.')"
   ]
  },
  {
   "cell_type": "code",
   "execution_count": 32,
   "id": "1b444997-fb28-4488-aae5-7091106426fc",
   "metadata": {},
   "outputs": [
    {
     "name": "stdout",
     "output_type": "stream",
     "text": [
      "Quantlake\n",
      "numbers\n",
      "strings\n",
      "160\n"
     ]
    }
   ],
   "source": [
    "## For and While loop\n",
    "listing = ['Quantlake', 'numbers', 'strings', 160]\n",
    "\n",
    "for i in listing:\n",
    "    print(i)"
   ]
  },
  {
   "cell_type": "markdown",
   "id": "bdeae854-574d-444f-9f39-7b2b20e44d29",
   "metadata": {},
   "source": [
    "For Loop\n",
    "A for loop is used for iterating over a sequence like a list, tuple, string, or range or other iterable objects. It executes a block of code for each item in the sequence."
   ]
  },
  {
   "cell_type": "code",
   "execution_count": 41,
   "id": "0650c6ca-ae2c-4b6a-ad3e-b71fd15aa5a5",
   "metadata": {},
   "outputs": [
    {
     "name": "stdout",
     "output_type": "stream",
     "text": [
      "0\n",
      "1\n",
      "2\n",
      "3\n",
      "4\n",
      "while loop break when count is equal to 5\n"
     ]
    }
   ],
   "source": [
    "## While loop\n",
    "count = 0\n",
    "while count<7:\n",
    "    print(count)\n",
    "    count += 1\n",
    "    if count == 5:\n",
    "        break\n",
    "print('while loop break when count is equal to 5')\n",
    "\n",
    "## A while loop repeatedly executes a block of code as long as a given condition remains True. \n",
    "## The loop continues until the condition becomes False. \n",
    "## we can use breake while loop when if condition in break is true"
   ]
  },
  {
   "cell_type": "markdown",
   "id": "64ed15fc-7ec2-459e-a171-5b4cb5247625",
   "metadata": {},
   "source": [
    "A while loop repeatedly executes a block of code as long as a given condition remains True. The loop continues until the condition becomes False. we can use breake while loop when if condition in break is true"
   ]
  },
  {
   "cell_type": "code",
   "execution_count": null,
   "id": "41cc393a-f0d5-4be5-9184-4578f9d6bc03",
   "metadata": {},
   "outputs": [],
   "source": []
  }
 ],
 "metadata": {
  "kernelspec": {
   "display_name": "Python 3 (ipykernel)",
   "language": "python",
   "name": "python3"
  },
  "language_info": {
   "codemirror_mode": {
    "name": "ipython",
    "version": 3
   },
   "file_extension": ".py",
   "mimetype": "text/x-python",
   "name": "python",
   "nbconvert_exporter": "python",
   "pygments_lexer": "ipython3",
   "version": "3.12.7"
  }
 },
 "nbformat": 4,
 "nbformat_minor": 5
}
