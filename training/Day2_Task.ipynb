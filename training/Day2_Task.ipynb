{
 "cells": [
  {
   "cell_type": "markdown",
   "id": "524decc2-f083-4ff6-8774-95ec7b773d0c",
   "metadata": {},
   "source": [
    "# Day 2 - Python Fundamentals\n",
    "\n",
    "#### Task 1: Data Structures Deep Dive"
   ]
  },
  {
   "cell_type": "code",
   "execution_count": 1,
   "id": "baa45d28-70b0-428c-b940-ce73b2d1a15a",
   "metadata": {},
   "outputs": [
    {
     "name": "stdout",
     "output_type": "stream",
     "text": [
      "Sorted List: [1, 2, 3, 3, 5, 5, 6, 6, 9]\n",
      "Unique Values: [1, 2, 3, 5, 6, 9]\n"
     ]
    }
   ],
   "source": [
    "## List\n",
    "nums = [5, 3, 6, 2, 3, 5, 1, 6, 9]\n",
    "sorted_nums = sorted(nums)\n",
    "unique_nums = list(set(sorted_nums))\n",
    "print(\"Sorted List:\", sorted_nums)\n",
    "print(\"Unique Values:\", unique_nums)"
   ]
  },
  {
   "cell_type": "code",
   "execution_count": 2,
   "id": "e71bb81c-b167-4a6e-bbcf-5c125ff494c6",
   "metadata": {},
   "outputs": [
    {
     "name": "stdout",
     "output_type": "stream",
     "text": [
      "Set (unique values): {1, 2, 3, 4, 5}\n"
     ]
    }
   ],
   "source": [
    "## Set\n",
    "set_example = {1, 2, 2, 3, 4, 4, 5}\n",
    "print(\"Set (unique values):\", set_example)\n"
   ]
  },
  {
   "cell_type": "code",
   "execution_count": 4,
   "id": "f7af8a5f-7c9e-42c6-9de5-ff221e6851c0",
   "metadata": {},
   "outputs": [
    {
     "name": "stdout",
     "output_type": "stream",
     "text": [
      "Nested City: Chennai\n"
     ]
    }
   ],
   "source": [
    "## Dictionary\n",
    "nested_dict = {\"person\": {\"name\": \"Vinoth\",\"details\": {\"age\": 30,\"address\": {\"city\": \"Chennai\",\"pin\": 600001}}}}\n",
    "print(\"Nested City:\", nested_dict[\"person\"][\"details\"][\"address\"][\"city\"])"
   ]
  },
  {
   "cell_type": "code",
   "execution_count": 9,
   "id": "e77f99d4-f9d5-4643-bfb2-41cefe5ab2ab",
   "metadata": {},
   "outputs": [
    {
     "name": "stdout",
     "output_type": "stream",
     "text": [
      "Squares: [0, 1, 4, 9, 16, 25, 36, 49, 64, 81]\n"
     ]
    }
   ],
   "source": [
    "# List Comprehension\n",
    "squares = [x**2 for x in range(10)]\n",
    "print(\"Squares:\", squares)"
   ]
  },
  {
   "cell_type": "code",
   "execution_count": 10,
   "id": "63a7c74e-3380-4687-a7c4-26dbb53b39bf",
   "metadata": {},
   "outputs": [
    {
     "name": "stdout",
     "output_type": "stream",
     "text": [
      "Bob's Department: IT\n"
     ]
    }
   ],
   "source": [
    "# Dictionary Nesting and Lookup\n",
    "employee = {\n",
    "    \"emp1\": {\"name\": \"Alice\", \"dept\": \"HR\"},\n",
    "    \"emp2\": {\"name\": \"Bob\", \"dept\": \"IT\"},\n",
    "}\n",
    "print(\"Bob's Department:\", employee[\"emp2\"][\"dept\"])"
   ]
  },
  {
   "cell_type": "markdown",
   "id": "3185df1d-502d-4b28-9398-fbc7b55aa754",
   "metadata": {},
   "source": [
    "#### Task 2: Functions & Modules"
   ]
  },
  {
   "cell_type": "code",
   "execution_count": 11,
   "id": "f1415247-1be1-4523-963e-5213592c56c6",
   "metadata": {},
   "outputs": [
    {
     "name": "stdout",
     "output_type": "stream",
     "text": [
      "Factorial of 5: 120\n"
     ]
    }
   ],
   "source": [
    "## Factorial Function\n",
    "def factorial(n):\n",
    "    if n == 0 or n == 1:\n",
    "        return 1\n",
    "    else:\n",
    "        return n * factorial(n-1)\n",
    "\n",
    "print(\"Factorial of 5:\", factorial(5))"
   ]
  },
  {
   "cell_type": "code",
   "execution_count": 13,
   "id": "8922f2f9-fe1b-4ae5-a381-18d6ea528c95",
   "metadata": {},
   "outputs": [
    {
     "name": "stdout",
     "output_type": "stream",
     "text": [
      "Is 13 Prime? True\n"
     ]
    }
   ],
   "source": [
    "## Prime Number Checker\n",
    "def is_prime(num):\n",
    "    if num < 2:\n",
    "        return False\n",
    "    for i in range(2, int(num ** 0.5) + 1):\n",
    "        if num % i == 0:\n",
    "            return False\n",
    "    return True\n",
    "print(\"Is 13 Prime?\", is_prime(13))"
   ]
  },
  {
   "cell_type": "code",
   "execution_count": 14,
   "id": "78700f15-1098-4e19-924a-98aa1cffe13e",
   "metadata": {},
   "outputs": [
    {
     "name": "stdout",
     "output_type": "stream",
     "text": [
      "Square root of 16: 4.0\n",
      "Random number (1-10): 2\n",
      "Current Datetime: 2025-06-24 18:34:36.568694\n"
     ]
    }
   ],
   "source": [
    "## Built-in Modules\n",
    "import math, random, datetime\n",
    "\n",
    "print(\"Square root of 16:\", math.sqrt(16))\n",
    "print(\"Random number (1-10):\", random.randint(1, 10))\n",
    "print(\"Current Datetime:\", datetime.datetime.now())"
   ]
  },
  {
   "cell_type": "markdown",
   "id": "a594f319-f2cc-401b-9aa0-ff7d4849ae58",
   "metadata": {},
   "source": [
    "#### Task 3: Exception Handling"
   ]
  },
  {
   "cell_type": "code",
   "execution_count": null,
   "id": "7e07a101-c792-473c-873e-5639dd949a18",
   "metadata": {},
   "outputs": [],
   "source": [
    "## Division by Zero Handling\n",
    "try:\n",
    "    result = 10 / 0\n",
    "except ZeroDivisionError:\n",
    "    result = \"Cannot divide by zero\"\n",
    "finally:\n",
    "    print(\"Division result:\", result)"
   ]
  },
  {
   "cell_type": "code",
   "execution_count": 16,
   "id": "5e2966cd-ab44-4170-a991-6b8274159641",
   "metadata": {},
   "outputs": [
    {
     "name": "stdin",
     "output_type": "stream",
     "text": [
      "Enter an integer:  10\n"
     ]
    },
    {
     "name": "stdout",
     "output_type": "stream",
     "text": [
      "10\n"
     ]
    }
   ],
   "source": [
    "## User Input Validation\n",
    "def get_integer_input():\n",
    "    try:\n",
    "        val = int(input(\"Enter an integer: \"))\n",
    "        return val\n",
    "    except ValueError:\n",
    "        return \"Invalid input. Please enter an integer.\"\n",
    "print(get_integer_input())"
   ]
  },
  {
   "cell_type": "code",
   "execution_count": 17,
   "id": "03899b53-7499-4c30-872d-fa95bbbcb94a",
   "metadata": {},
   "outputs": [
    {
     "name": "stdout",
     "output_type": "stream",
     "text": [
      "1\n",
      "2\n",
      "Fizz\n",
      "4\n",
      "Buzz\n",
      "Fizz\n",
      "7\n",
      "8\n",
      "Fizz\n",
      "Buzz\n",
      "11\n",
      "Fizz\n",
      "13\n",
      "14\n",
      "FizzBuzz\n",
      "16\n",
      "17\n",
      "Fizz\n",
      "19\n",
      "Buzz\n"
     ]
    }
   ],
   "source": [
    "## FizzBuzz\n",
    "for i in range(1, 21):\n",
    "    if i % 3 == 0 and i % 5 == 0:\n",
    "        print(\"FizzBuzz\")\n",
    "    elif i % 3 == 0:\n",
    "        print(\"Fizz\")\n",
    "    elif i % 5 == 0:\n",
    "        print(\"Buzz\")\n",
    "    else:\n",
    "        print(i)"
   ]
  },
  {
   "cell_type": "code",
   "execution_count": 18,
   "id": "d4cb6ff3-ec2d-4f98-8262-c4369b9f3ca6",
   "metadata": {},
   "outputs": [
    {
     "name": "stdout",
     "output_type": "stream",
     "text": [
      "Largest number: 99\n"
     ]
    }
   ],
   "source": [
    "## Largest Number in List\n",
    "num_list = [10, 3, 50, 23, 99, 7]\n",
    "print(\"Largest number:\", max(num_list))"
   ]
  },
  {
   "cell_type": "code",
   "execution_count": 19,
   "id": "0d7368a9-1636-43b3-8ad7-ae8c6254f125",
   "metadata": {},
   "outputs": [
    {
     "name": "stdout",
     "output_type": "stream",
     "text": [
      "Reversed:  pihsnretnI\n"
     ]
    }
   ],
   "source": [
    "## Reverse a String\n",
    "def reverse_string(s):\n",
    "    return s[::-1]\n",
    "\n",
    "print(\"Reversed: \", reverse_string(\"Internship\"))"
   ]
  }
 ],
 "metadata": {
  "kernelspec": {
   "display_name": "Python 3 (ipykernel)",
   "language": "python",
   "name": "python3"
  },
  "language_info": {
   "codemirror_mode": {
    "name": "ipython",
    "version": 3
   },
   "file_extension": ".py",
   "mimetype": "text/x-python",
   "name": "python",
   "nbconvert_exporter": "python",
   "pygments_lexer": "ipython3",
   "version": "3.12.7"
  }
 },
 "nbformat": 4,
 "nbformat_minor": 5
}
